{
  "nbformat": 4,
  "nbformat_minor": 0,
  "metadata": {
    "colab": {
      "provenance": []
    },
    "kernelspec": {
      "name": "python3",
      "display_name": "Python 3"
    },
    "language_info": {
      "name": "python"
    }
  },
  "cells": [
    {
      "cell_type": "markdown",
      "source": [
        "# 1\n",
        "Даны значения величины заработной платы заемщиков банка (zp) и значения их поведенческого кредитного скоринга (ks): zp = [35, 45, 190, 200, 40, 70, 54, 150, 120, 110],\n",
        "ks = [401, 574, 874, 919, 459, 739, 653, 902, 746, 832].\n",
        "Найдите ковариацию этих двух величин с помощью элементарных действий, а затем с помощью функции cov из numpy\n",
        "Полученные значения должны быть равны.\n",
        "Найдите коэффициент корреляции Пирсона с помощью ковариации и среднеквадратичных отклонений двух признаков, а затем с использованием функций из библиотек numpy и pandas."
      ],
      "metadata": {
        "id": "Bq3rNzPmdg2U"
      }
    },
    {
      "cell_type": "markdown",
      "source": [
        "\n",
        "Чтобы найти ковариацию и коэффициент корреляции, необходимо выполнить следующие шаги:\n",
        "\n",
        "1.   Найти среднее значение (среднее арифметическое) для каждого признака.\n",
        "2.   Вычислить отклонение каждого значения от среднего значения соответствующего признака.\n",
        "3.   Вычислить произведение отклонений для каждой пары значений признаков.\n",
        "Найти сумму произведений, вычислить ковариацию.\n",
        "4.   Вычислить коэффициент корреляции Пирсона как отношение ковариации к произведению среднеквадратичных отклонений двух признаков\n",
        "\n",
        "\n",
        "\n",
        "\n",
        "\n",
        "\n"
      ],
      "metadata": {
        "id": "F6DygEtKdivr"
      }
    },
    {
      "cell_type": "code",
      "source": [
        "import numpy as np\n",
        "\n",
        "zp = np.array([35, 45, 190, 200, 40, 70, 54, 150, 120, 110])\n",
        "ks = np.array([401, 574, 874, 919, 459, 739, 653, 902, 746, 832])\n",
        "\n",
        "# вычисляем средние значения\n",
        "mean_zp = np.mean(zp)\n",
        "mean_ks = np.mean(ks)\n",
        "\n",
        "# вычисляем ковариацию\n",
        "covariance = np.mean((zp - mean_zp) * (ks - mean_ks))\n",
        "print(\"Ковариация:\", covariance)\n",
        "\n",
        "# проверяем с помощью функции cov из numpy\n",
        "covariance_np = np.cov(zp, ks, ddof=0)[0, 1]\n",
        "print(\"Ковариация (numpy):\", covariance_np)\n"
      ],
      "metadata": {
        "colab": {
          "base_uri": "https://localhost:8080/"
        },
        "id": "G89Ltm0Rewvw",
        "outputId": "6d3b2b11-b0f0-452a-bc52-59b23bf5275c"
      },
      "execution_count": 2,
      "outputs": [
        {
          "output_type": "stream",
          "name": "stdout",
          "text": [
            "Ковариация: 9157.84\n",
            "Ковариация (numpy): 9157.84\n"
          ]
        }
      ]
    },
    {
      "cell_type": "code",
      "source": [
        "# вычисляем среднеквадратичные отклонения\n",
        "std_zp = np.std(zp, ddof=1)\n",
        "std_ks = np.std(ks, ddof=1)\n",
        "\n",
        "# вычисляем коэффициент корреляции Пирсона\n",
        "correlation = covariance / (std_zp * std_ks)\n",
        "print(\"Коэффициент корреляции Пирсона:\", correlation)\n",
        "\n",
        "# проверяем с помощью функций из numpy и pandas\n",
        "correlation_np = np.corrcoef(zp, ks)[0, 1]\n",
        "print(\"Коэффициент корреляции Пирсона (numpy):\", correlation_np)\n",
        "\n",
        "import pandas as pd\n",
        "df = pd.DataFrame({'zp': zp, 'ks': ks})\n",
        "correlation_pd = df.corr().loc['zp', 'ks']\n",
        "print(\"Коэффициент корреляции Пирсона (pandas):\", correlation_pd)\n"
      ],
      "metadata": {
        "colab": {
          "base_uri": "https://localhost:8080/"
        },
        "id": "1iHJFAuDflpO",
        "outputId": "3bda159f-8669-42f4-c174-875c3b79544f"
      },
      "execution_count": 3,
      "outputs": [
        {
          "output_type": "stream",
          "name": "stdout",
          "text": [
            "Коэффициент корреляции Пирсона: 0.7987410828665246\n",
            "Коэффициент корреляции Пирсона (numpy): 0.8874900920739162\n",
            "Коэффициент корреляции Пирсона (pandas): 0.8874900920739168\n"
          ]
        }
      ]
    },
    {
      "cell_type": "markdown",
      "source": [
        "# 2\n",
        "Измерены значения IQ выборки студентов,\n",
        "обучающихся в местных технических вузах:\n",
        "\n",
        "131, 125, 115, 122, 131, 115, 107, 99, 125, 111.\n",
        "\n",
        "Известно, что в генеральной совокупности IQ распределен нормально.\n",
        "Найдите доверительный интервал для математического ожидания с надежностью 0.95."
      ],
      "metadata": {
        "id": "8rF4kEYQf549"
      }
    },
    {
      "cell_type": "markdown",
      "source": [
        "\n",
        "Сначала найдем выборочное среднее и известное стандартное отклонение:"
      ],
      "metadata": {
        "id": "nolJHAg1gG-d"
      }
    },
    {
      "cell_type": "code",
      "source": [
        "import numpy as np\n",
        "\n",
        "data = np.array([131, 125, 115, 122, 131, 115, 107, 99, 125, 111])\n",
        "x_mean = data.mean()\n",
        "sigma = 10  # известное стандартное отклонение генеральной совокупности\n",
        "n = len(data)\n"
      ],
      "metadata": {
        "id": "NWu20nTigJNy"
      },
      "execution_count": 4,
      "outputs": []
    },
    {
      "cell_type": "markdown",
      "source": [
        "Затем найдем квантили стандартного нормального распределения"
      ],
      "metadata": {
        "id": "ECMQkaRKgNSQ"
      }
    },
    {
      "cell_type": "code",
      "source": [
        "from scipy.stats import norm\n",
        "\n",
        "alpha = 0.05\n",
        "z = norm.ppf(1 - alpha/2)\n"
      ],
      "metadata": {
        "id": "w7SH5TEQgN6r"
      },
      "execution_count": 6,
      "outputs": []
    },
    {
      "cell_type": "markdown",
      "source": [
        "Теперь можем вычислить доверительный интервал"
      ],
      "metadata": {
        "id": "LnzySK1sgTQv"
      }
    },
    {
      "cell_type": "code",
      "source": [
        "interval = (x_mean - z * sigma / np.sqrt(n), x_mean + z * sigma / np.sqrt(n))\n",
        "print(interval)\n"
      ],
      "metadata": {
        "colab": {
          "base_uri": "https://localhost:8080/"
        },
        "id": "bzLYlkOSgVMi",
        "outputId": "5a15ae1c-3ea3-40ab-bbaf-f357c318485a"
      },
      "execution_count": 7,
      "outputs": [
        {
          "output_type": "stream",
          "name": "stdout",
          "text": [
            "(111.90204967695438, 124.29795032304561)\n"
          ]
        }
      ]
    },
    {
      "cell_type": "markdown",
      "source": [
        "# 3\n",
        "Известно, что рост футболистов в сборной распределен нормально с дисперсией генеральной совокупности, равной 25 кв.см. Объем выборки равен 27, среднее выборочное составляет 174.2. Найдите доверительный интервал для математического ожидания с надежностью 0.95"
      ],
      "metadata": {
        "id": "sWZofbQWgmFX"
      }
    },
    {
      "cell_type": "code",
      "source": [
        "from scipy.stats import norm\n",
        "import numpy as np\n",
        "\n",
        "\n",
        "n = 27 # размер выборки\n",
        "mean = 174.2 # среднее выборочное\n",
        "variance = 25 # дисперсия генеральной совокупности\n",
        "alpha = 0.05 # уровень значимости\n",
        "\n",
        "z = norm.ppf(1 - alpha / 2)\n",
        "se = np.sqrt(variance / n)\n",
        "\n",
        "left_boundary = mean - z * se\n",
        "right_boundary = mean + z * se\n",
        "\n",
        "print(\"Доверительный интервал для математического ожидания: ({:.2f}, {:.2f})\".format(left_boundary, right_boundary))\n",
        "\n",
        "\n"
      ],
      "metadata": {
        "colab": {
          "base_uri": "https://localhost:8080/"
        },
        "id": "aeu0CvOGgpx4",
        "outputId": "e207e63b-a6ba-4c32-82e5-9bfa9d93b40a"
      },
      "execution_count": 8,
      "outputs": [
        {
          "output_type": "stream",
          "name": "stdout",
          "text": [
            "Доверительный интервал для математического ожидания: (172.31, 176.09)\n"
          ]
        }
      ]
    }
  ]
}